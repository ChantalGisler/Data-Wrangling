{
 "cells": [
  {
   "cell_type": "markdown",
   "id": "72cf4a8f",
   "metadata": {},
   "source": [
    "# Data Wrangling\n",
    "\n",
    "Von Ramin Häcki und Chantal Gisler, HS25\n",
    "\n",
    "Hier wird codiert, bitte Branches erstellen und kommentieren. "
   ]
  }
 ],
 "metadata": {
  "language_info": {
   "name": "python"
  }
 },
 "nbformat": 4,
 "nbformat_minor": 5
}
